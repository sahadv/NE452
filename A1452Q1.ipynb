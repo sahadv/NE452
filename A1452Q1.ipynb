{
 "cells": [
  {
   "cell_type": "code",
   "execution_count": 10,
   "metadata": {},
   "outputs": [
    {
     "name": "stdout",
     "output_type": "stream",
     "text": [
      "part a\n",
      "Analytical Value: 0.9595173756674719\n",
      "Sum for 1 Energy Level: 0.6065306597126334\n",
      "Sum for 10 Energy Level: 0.9595013500953603\n",
      "Sum for 100 Energy Level: 0.9595173756674718\n",
      "part b\n",
      "Analytical Value: 9.995834548290834\n",
      "Sum for 1 Energy Level: 0.951229424500714\n",
      "Sum for 10 Energy Level: 6.668510269734564\n",
      "Sum for 100 Energy Level: 9.995423923853489\n"
     ]
    }
   ],
   "source": [
    "#Sahad's code for Q1 of Assignment 1 NE 452: Evaluate partition function for single harmonic oscillator\n",
    "from numpy import *\n",
    "print(\"part a\")\n",
    "hbar =1; w=1; B = 1;\n",
    "z_anal = exp(-B*hbar*w/2) / (1-exp(-B*hbar*w))\n",
    "print(\"Analytical Value: {}\".format(z_anal))\n",
    "\n",
    "#hbar = (6.63*10**-34)/2*pi\n",
    "\n",
    "a = [];\n",
    "for n in range(0,101):\n",
    "    #print(n)\n",
    "    En = hbar*w*(n+.5);\n",
    "    En_current = exp(-B*En);\n",
    "    a.append(En_current);\n",
    "z_sum_1 = a[0];\n",
    "print(\"Sum for 1 Energy Level: {}\".format(z_sum_1))\n",
    "z_sum_10 = np.sum(a[0:11])\n",
    "print(\"Sum for 10 Energy Level: {}\".format(z_sum_10))\n",
    "z_sum_100 = np.sum(a[0:101])\n",
    "print(\"Sum for 100 Energy Level: {}\".format(z_sum_100))\n",
    "\n",
    "print(\"part b\")\n",
    "hbar =1; w=1; B = .1;\n",
    "z_anal = exp(-B*hbar*w/2) / (1-exp(-B*hbar*w))\n",
    "print(\"Analytical Value: {}\".format(z_anal))\n",
    "a = [];\n",
    "for n in range(0,101):\n",
    "    #print(n)\n",
    "    En = hbar*w*(n+.5);\n",
    "    En_current = exp(-B*En);\n",
    "    a.append(En_current);\n",
    "\n",
    "z_sum_1 = a[0];\n",
    "print(\"Sum for 1 Energy Level: {}\".format(z_sum_1))\n",
    "z_sum_10 = sum(a[0:11])\n",
    "print(\"Sum for 10 Energy Level: {}\".format(z_sum_10))\n",
    "z_sum_100 = sum(a[0:101])\n",
    "print(\"Sum for 100 Energy Level: {}\".format(z_sum_100))\n"
   ]
  },
  {
   "cell_type": "code",
   "execution_count": 9,
   "metadata": {},
   "outputs": [
    {
     "name": "stdout",
     "output_type": "stream",
     "text": [
      "for Beta=.01\n",
      "Analytical Value: 99.99958333454914\n",
      "Sum for 1 Energy Level: 0.9950124791926823\n",
      "Sum for 10 Energy Level: 10.416543068030139\n",
      "Sum for 100 Energy Level: 63.5778371348618\n"
     ]
    }
   ],
   "source": [
    "print(\"for Beta=.01\")\n",
    "hbar =1; w=1; B = .01;\n",
    "z_anal = np.exp(-B*hbar*w/2) / (1-exp(-B*hbar*w))\n",
    "print(\"Analytical Value: {}\".format(z_anal))\n",
    "a = [];\n",
    "for n in range(0,101):\n",
    "    #print(n)\n",
    "    En = hbar*w*(n+.5);\n",
    "    En_current = np.exp(-B*En);\n",
    "    a.append(En_current);\n",
    "\n",
    "z_sum_1 = a[0];\n",
    "print(\"Sum for 1 Energy Level: {}\".format(z_sum_1))\n",
    "z_sum_10 = np.sum(a[0:11])\n",
    "print(\"Sum for 10 Energy Level: {}\".format(z_sum_10))\n",
    "z_sum_100 = np.sum(a[0:101])\n",
    "print(\"Sum for 100 Energy Level: {}\".format(z_sum_100))\n"
   ]
  },
  {
   "cell_type": "code",
   "execution_count": 1,
   "metadata": {},
   "outputs": [
    {
     "name": "stdout",
     "output_type": "stream",
     "text": [
      "3.7.4\n"
     ]
    }
   ],
   "source": [
    "from platform import python_version\n",
    "\n",
    "print(python_version())"
   ]
  },
  {
   "cell_type": "code",
   "execution_count": null,
   "metadata": {},
   "outputs": [],
   "source": []
  }
 ],
 "metadata": {
  "kernelspec": {
   "display_name": "Python 3 (ipykernel)",
   "language": "python",
   "name": "python3"
  },
  "language_info": {
   "codemirror_mode": {
    "name": "ipython",
    "version": 3
   },
   "file_extension": ".py",
   "mimetype": "text/x-python",
   "name": "python",
   "nbconvert_exporter": "python",
   "pygments_lexer": "ipython3",
   "version": "3.10.0"
  }
 },
 "nbformat": 4,
 "nbformat_minor": 1
}
